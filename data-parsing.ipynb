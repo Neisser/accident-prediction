{
 "cells": [
  {
   "cell_type": "code",
   "execution_count": 60,
   "metadata": {},
   "outputs": [],
   "source": [
    "import pandas as pd"
   ]
  },
  {
   "cell_type": "markdown",
   "metadata": {},
   "source": [
    "# Get data"
   ]
  },
  {
   "cell_type": "code",
   "execution_count": 61,
   "metadata": {},
   "outputs": [
    {
     "name": "stdout",
     "output_type": "stream",
     "text": [
      "date               object\n",
      "hour               object\n",
      "severity           object\n",
      "type               object\n",
      "address            object\n",
      "injured_amount    float64\n",
      "dead              float64\n",
      "accidents           int64\n",
      "year                int64\n",
      "month              object\n",
      "day_of_week        object\n",
      "dtype: object\n",
      "                      date         hour     severity       type  \\\n",
      "0  2018-01-01T00:00:00.000  01:30:00:am  Con heridos  Atropello   \n",
      "1  2018-01-01T00:00:00.000  02:00:00:pm   Solo daños     Choque   \n",
      "2  2018-01-01T00:00:00.000  04:00:00:am   Solo daños     Choque   \n",
      "3  2018-01-01T00:00:00.000  04:30:00:am   Solo daños     Choque   \n",
      "4  2018-01-01T00:00:00.000  05:20:00:pm   Solo daños     Choque   \n",
      "\n",
      "                address  injured_amount  dead  accidents  year    month  \\\n",
      "0           CL 87 9H 24             1.0   NaN          1  2018  January   \n",
      "1          CL 110 CR 46             NaN   NaN          1  2018  January   \n",
      "2  AV CIRCUNVALAR CR 9G             NaN   NaN          1  2018  January   \n",
      "3        CLLE 72 CRA 29             NaN   NaN          1  2018  January   \n",
      "4       VIA 40 CALLE 75             NaN   NaN          1  2018  January   \n",
      "\n",
      "  day_of_week  \n",
      "0         Mon  \n",
      "1         Mon  \n",
      "2         Mon  \n",
      "3         Mon  \n",
      "4         Mon  \n",
      "       injured_amount        dead     accidents          year\n",
      "count     9984.000000  252.000000  25610.000000  25610.000000\n",
      "mean         1.471655    1.035714      1.000195   2020.100547\n",
      "std          1.156751    0.185946      0.013972      1.713887\n",
      "min          1.000000    1.000000      1.000000   2018.000000\n",
      "25%          1.000000    1.000000      1.000000   2019.000000\n",
      "50%          1.000000    1.000000      1.000000   2020.000000\n",
      "75%          2.000000    1.000000      1.000000   2021.000000\n",
      "max         42.000000    2.000000      2.000000   2024.000000\n"
     ]
    }
   ],
   "source": [
    "df = pd.read_csv('./assets/traffic_accidents_in_barranquilla-20240819.csv')\n",
    "\n",
    "print(df.dtypes)\n",
    "print(df.head())  \n",
    "print(df.describe())"
   ]
  },
  {
   "cell_type": "markdown",
   "metadata": {},
   "source": [
    "# Add id column"
   ]
  },
  {
   "cell_type": "code",
   "execution_count": 62,
   "metadata": {},
   "outputs": [
    {
     "name": "stdout",
     "output_type": "stream",
     "text": [
      "   id                     date         hour     severity       type  \\\n",
      "0   1  2018-01-01T00:00:00.000  01:30:00:am  Con heridos  Atropello   \n",
      "1   2  2018-01-01T00:00:00.000  02:00:00:pm   Solo daños     Choque   \n",
      "2   3  2018-01-01T00:00:00.000  04:00:00:am   Solo daños     Choque   \n",
      "3   4  2018-01-01T00:00:00.000  04:30:00:am   Solo daños     Choque   \n",
      "4   5  2018-01-01T00:00:00.000  05:20:00:pm   Solo daños     Choque   \n",
      "5   6  2018-01-01T00:00:00.000  06:00:00:pm  Con heridos     Choque   \n",
      "6   7  2018-01-01T00:00:00.000  12:50:00:am  Con heridos  Atropello   \n",
      "7   8  2018-01-02T00:00:00.000  02:30:00:pm   Solo daños     Choque   \n",
      "8   9  2018-01-02T00:00:00.000  03:00:00:pm   Solo daños     Choque   \n",
      "9  10  2018-01-02T00:00:00.000  03:45:00:pm   Solo daños     Choque   \n",
      "\n",
      "                address  injured_amount  dead  accidents  year    month  \\\n",
      "0           CL 87 9H 24             1.0   NaN          1  2018  January   \n",
      "1          CL 110 CR 46             NaN   NaN          1  2018  January   \n",
      "2  AV CIRCUNVALAR CR 9G             NaN   NaN          1  2018  January   \n",
      "3        CLLE 72 CRA 29             NaN   NaN          1  2018  January   \n",
      "4       VIA 40 CALLE 75             NaN   NaN          1  2018  January   \n",
      "5            CR 8 CL 41             3.0   NaN          1  2018  January   \n",
      "6     CLLE 119B CRA 11B             1.0   NaN          1  2018  January   \n",
      "7      CARRERA 25 37-42             NaN   NaN          1  2018  January   \n",
      "8          CR 51B 1D 35             NaN   NaN          1  2018  January   \n",
      "9       VIA 40  CLLE 85             NaN   NaN          1  2018  January   \n",
      "\n",
      "  day_of_week latitude longitude  \n",
      "0         Mon                     \n",
      "1         Mon                     \n",
      "2         Mon                     \n",
      "3         Mon                     \n",
      "4         Mon                     \n",
      "5         Mon                     \n",
      "6         Mon                     \n",
      "7         Tue                     \n",
      "8         Tue                     \n",
      "9         Tue                     \n"
     ]
    }
   ],
   "source": [
    "df.insert(0, 'id', df.index + 1)\n",
    "df.insert(len(df.columns), 'latitude', '')\n",
    "df.insert(len(df.columns), 'longitude', '')\n",
    "\n",
    "print(df.head(10))"
   ]
  },
  {
   "cell_type": "markdown",
   "metadata": {},
   "source": [
    "# Data column parsing"
   ]
  },
  {
   "cell_type": "code",
   "execution_count": 63,
   "metadata": {},
   "outputs": [
    {
     "name": "stdout",
     "output_type": "stream",
     "text": [
      "id                         int64\n",
      "date              datetime64[ns]\n",
      "hour                      object\n",
      "severity                category\n",
      "type                    category\n",
      "address                   object\n",
      "injured_amount             int64\n",
      "dead                       int64\n",
      "accidents                  int64\n",
      "year                       int64\n",
      "month                   category\n",
      "day_of_week             category\n",
      "latitude                  object\n",
      "longitude                 object\n",
      "dtype: object\n",
      "          id       date      hour     severity       type  \\\n",
      "0          1 2018-01-01  01:30:00  Con heridos  Atropello   \n",
      "1          2 2018-01-01  14:00:00   Solo daños     Choque   \n",
      "2          3 2018-01-01  04:00:00   Solo daños     Choque   \n",
      "3          4 2018-01-01  04:30:00   Solo daños     Choque   \n",
      "4          5 2018-01-01  17:20:00   Solo daños     Choque   \n",
      "...      ...        ...       ...          ...        ...   \n",
      "25605  25606 2024-06-29  10:15:00  Con heridos     Choque   \n",
      "25606  25607 2024-06-30  02:00:00  Con heridos     Choque   \n",
      "25607  25608 2024-06-30  14:00:00  Con heridos     Choque   \n",
      "25608  25609 2024-06-30  17:00:00  Con muertos     Choque   \n",
      "25609  25610 2024-06-30  18:30:00  Con heridos  Atropello   \n",
      "\n",
      "                            address  injured_amount  dead  accidents  year  \\\n",
      "0                       CL 87 9H 24               1     0          1  2018   \n",
      "1                      CL 110 CR 46               0     0          1  2018   \n",
      "2              AV CIRCUNVALAR CR 9G               0     0          1  2018   \n",
      "3                    CLLE 72 CRA 29               0     0          1  2018   \n",
      "4                   VIA 40 CALLE 75               0     0          1  2018   \n",
      "...                             ...             ...   ...        ...   ...   \n",
      "25605          CARRERA 42G CALLE 90               1     0          1  2024   \n",
      "25606          CALLE 116 CARRERA 38               1     0          1  2024   \n",
      "25607  CALLE 56 FRENTE AL # 8E - 48               2     0          1  2024   \n",
      "25608       CARRERA 43 CON CALLE 41               0     1          1  2024   \n",
      "25609            CARRERA 8 CALLE 49               2     0          1  2024   \n",
      "\n",
      "         month day_of_week latitude longitude  \n",
      "0      January         Mon                     \n",
      "1      January         Mon                     \n",
      "2      January         Mon                     \n",
      "3      January         Mon                     \n",
      "4      January         Mon                     \n",
      "...        ...         ...      ...       ...  \n",
      "25605     June         Sat                     \n",
      "25606     June         Sun                     \n",
      "25607     June         Sun                     \n",
      "25608     June         Sun                     \n",
      "25609     June         Sun                     \n",
      "\n",
      "[25610 rows x 14 columns]\n"
     ]
    }
   ],
   "source": [
    "unique_severity = df['severity'].unique()\n",
    "\n",
    "unique_type = df['type'].unique()\n",
    "\n",
    "unique_month = df['month'].unique()\n",
    "\n",
    "unique_day_of_week = df['day_of_week'].unique()\n",
    "\n",
    "df['severity'] = pd.Categorical(df['severity'], categories=unique_severity)\n",
    "df['type'] = pd.Categorical(df['type'], categories=unique_type)\n",
    "\n",
    "# Convert 'month' and 'day_of_week' to categorical types\n",
    "df['month'] = pd.Categorical(df['month'], unique_month)\n",
    "df['day_of_week'] = pd.Categorical(df['day_of_week'], unique_day_of_week)\n",
    "\n",
    "# Convert 'date' to datetime format\n",
    "df['date'] = pd.to_datetime(df['date'])\n",
    "\n",
    "# Convert 'hour' to a time format\n",
    "df['hour'] = pd.to_datetime(df['hour'], format='%I:%M:%S:%p').dt.time\n",
    "\n",
    "# Convert 'address' to string\n",
    "df['address'] = df['address'].astype(str)\n",
    "\n",
    "# Convert 'injured_amount', 'dead', 'accidents', 'year' to int64 (handling NaN)\n",
    "df['injured_amount'] = df['injured_amount'].fillna(0).astype(int)\n",
    "df['dead'] = df['dead'].fillna(0).astype(int)\n",
    "df['accidents'] = df['accidents'].astype(int)\n",
    "df['year'] = df['year'].astype(int)\n",
    "\n",
    "\n",
    "# Check the updated DataFrame types\n",
    "print(df.dtypes)\n",
    "\n",
    "# Optionally, view the updated DataFrame\n",
    "print(df)"
   ]
  },
  {
   "cell_type": "markdown",
   "metadata": {},
   "source": [
    "# Save data modifications"
   ]
  },
  {
   "cell_type": "code",
   "execution_count": 64,
   "metadata": {},
   "outputs": [],
   "source": [
    "df.to_csv('./assets/data.csv', index=False)"
   ]
  }
 ],
 "metadata": {
  "kernelspec": {
   "display_name": ".venv",
   "language": "python",
   "name": "python3"
  },
  "language_info": {
   "codemirror_mode": {
    "name": "ipython",
    "version": 3
   },
   "file_extension": ".py",
   "mimetype": "text/x-python",
   "name": "python",
   "nbconvert_exporter": "python",
   "pygments_lexer": "ipython3",
   "version": "3.12.1"
  }
 },
 "nbformat": 4,
 "nbformat_minor": 2
}
